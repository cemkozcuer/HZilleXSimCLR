{
 "cells": [
  {
   "cell_type": "code",
   "execution_count": null,
   "outputs": [],
   "source": [
    "\"\"\"\n",
    "This notebook parses the metadata about the Heinrich Zille photo collection into a csv file.\n",
    "\n",
    "Originally the the metadata file is a XML file in BIG LIDO format (which is a metadata schema used in museums).\n",
    "It gets here first parsed into JSON and then parsed into a list of images with metadata,\n",
    "which eventually build the rows in the final csv file.\n",
    "\"\"\""
   ],
   "metadata": {
    "collapsed": false,
    "pycharm": {
     "name": "#%%\n"
    }
   }
  },
  {
   "cell_type": "code",
   "execution_count": 1,
   "outputs": [],
   "source": [
    "import smbclient\n",
    "import pandas as pd\n",
    "import xmltodict"
   ],
   "metadata": {
    "collapsed": false,
    "pycharm": {
     "name": "#%%\n"
    }
   }
  },
  {
   "cell_type": "code",
   "execution_count": 2,
   "outputs": [
    {
     "data": {
      "text/plain": "<smbprotocol.session.Session at 0x10be784f0>"
     },
     "execution_count": 2,
     "metadata": {},
     "output_type": "execute_result"
    }
   ],
   "source": [
    "server_address = '192.168.178.35'\n",
    "\n",
    "# todo: make credentials file to import\n",
    "user_name = ''\n",
    "pw = ''\n",
    "\n",
    "# Optional - register the server with explicit credentials\n",
    "smbclient.register_session(server_address, username=user_name, password=pw)"
   ],
   "metadata": {
    "collapsed": false,
    "pycharm": {
     "name": "#%%\n"
    }
   }
  },
  {
   "cell_type": "code",
   "execution_count": 3,
   "outputs": [],
   "source": [
    "meta_data_address = f'{server_address}/DataCStore/HeinrichZille/Metadaten/BG_LIDO_Zille_CdV_20170816.xml'\n",
    "with smbclient.open_file(meta_data_address, 'r') as meta_data_file:\n",
    "    xml_as_dict = xmltodict.parse(meta_data_file.read())"
   ],
   "metadata": {
    "collapsed": false,
    "pycharm": {
     "name": "#%%\n"
    }
   }
  },
  {
   "cell_type": "code",
   "execution_count": 4,
   "outputs": [
    {
     "name": "stdout",
     "output_type": "stream",
     "text": [
      "624 images\n",
      "624\n"
     ]
    }
   ],
   "source": [
    "def list_get (a_list, index, fallback_val=None):\n",
    "    try:\n",
    "        return a_list[index]\n",
    "    except IndexError:\n",
    "        return fallback_val\n",
    "\n",
    "def parse_single_image(single_image_meta_data):\n",
    "    image_id = single_image_meta_data['lido:administrativeMetadata']['lido:recordWrap']['lido:recordID']['#text']\n",
    "    title = single_image_meta_data['lido:descriptiveMetadata']['lido:objectIdentificationWrap']['lido:titleWrap']['lido:titleSet']['lido:appellationValue']\n",
    "    date = single_image_meta_data['lido:descriptiveMetadata']['lido:eventWrap']['lido:eventSet']['lido:event']['lido:eventDate']['lido:displayDate']\n",
    "    author = single_image_meta_data['lido:descriptiveMetadata']['lido:eventWrap']['lido:eventSet']['lido:event']['lido:eventActor']['lido:displayActorInRole']\n",
    "    technique = single_image_meta_data['lido:descriptiveMetadata']['lido:eventWrap']['lido:eventSet']['lido:event']['lido:eventMaterialsTech']['lido:displayMaterialsTech']\n",
    "\n",
    "    measurement_set = single_image_meta_data['lido:descriptiveMetadata']['lido:objectIdentificationWrap']['lido:objectMeasurementsWrap']['lido:objectMeasurementsSet']\n",
    "\n",
    "    measurements = [measurement['lido:displayObjectMeasurements'] for measurement in measurement_set]\n",
    "\n",
    "\n",
    "    parsed_image_meta_data = {\n",
    "        'id': image_id,\n",
    "        'title': title,\n",
    "        'date': date,\n",
    "        'author': author,\n",
    "        'technique': technique\n",
    "    }\n",
    "\n",
    "    for i in range(5):\n",
    "        parsed_image_meta_data[f'measurement_{i + 1}'] = list_get(measurements, i)\n",
    "\n",
    "    return parsed_image_meta_data\n",
    "\n",
    "\n",
    "image_meta_data_list = xml_as_dict['lido:lidoWrap']['lido:lido']\n",
    "print(f'{len(image_meta_data_list)} images')\n",
    "\n",
    "parsed_images = [parse_single_image(single_image_meta_data) for single_image_meta_data in image_meta_data_list]\n",
    "print(len(parsed_images))"
   ],
   "metadata": {
    "collapsed": false,
    "pycharm": {
     "name": "#%%\n"
    }
   }
  },
  {
   "cell_type": "code",
   "execution_count": 5,
   "outputs": [
    {
     "name": "stdout",
     "output_type": "stream",
     "text": [
      "         id                                              title  \\\n",
      "0    153911         Ohne Titel (Zuschauer vor einer Schaubude)   \n",
      "1    156704              Ohne Titel (Blick aus Zilles Wohnung)   \n",
      "2    156721  Ohne Titel (Das Haus Nr. 88 in der Sophie-Char...   \n",
      "3    156722  Ohne Titel (Fritz Klimsch in seinem Atelier, r...   \n",
      "4    156723  Ohne Titel (In der Wohnung, Blick vom Wohn- zu...   \n",
      "..      ...                                                ...   \n",
      "619  228778       Ohne Titel (Mädchen mit Kleinkind und Junge)   \n",
      "620  228780  Ohne Titel (Kegelabend, vorn rechts August Kla...   \n",
      "621  228782               Ohne Titel (Zuschauer vor Schaubude)   \n",
      "622  228792              Ohne Titel (Portrait Margarete Zille)   \n",
      "623  228793       Ohne Titel (Portrait Hulda Zille, Brustbild)   \n",
      "\n",
      "                 date                       author             technique  \\\n",
      "0         Sommer 1897  Zille, Heinrich (1858-1929)  Silbergelatinepapier   \n",
      "1         Sommer 1893  Zille, Heinrich (1858-1929)  Silbergelatinepapier   \n",
      "2         Herbst 1897  Zille, Heinrich (1858-1929)  Silbergelatinepapier   \n",
      "3                1899  Zille, Heinrich (1858-1929)  Silbergelatinepapier   \n",
      "4         Herbst 1899  Zille, Heinrich (1858-1929)  Silbergelatinepapier   \n",
      "..                ...                          ...                   ...   \n",
      "619  Juli/August 1900  Zille, Heinrich (1858-1929)  Silbergelatinepapier   \n",
      "620  Winter 1899/1900  Zille, Heinrich (1858-1929)  Silbergelatinepapier   \n",
      "621       August 1900  Zille, Heinrich (1858-1929)  Silbergelatinepapier   \n",
      "622        1905/ 1906  Zille, Heinrich (1858-1929)  Silbergelatinepapier   \n",
      "623         1905/1906  Zille, Heinrich (1858-1929)  Silbergelatinepapier   \n",
      "\n",
      "                measurement_1                   measurement_2  \\\n",
      "0      Bildmaß:  20,7x26,2 cm         Blattmaß:  23,9x29,9 cm   \n",
      "1      Bildmaß:  19,7x26,2 cm  Fotopapiermaß:  23,8 x 29,9 cm   \n",
      "2      Bildmaß:  26,5x20,6 cm  Fotopapiermaß:  29,9 x 23,8 cm   \n",
      "3    Bildmaß:  20,6 x 26,6 cm  Fotopapiermaß:  23,9 x 29,9 cm   \n",
      "4      Bildmaß:  20 x 25,9 cm  Fotopapiermaß:  23,2 x 29,5 cm   \n",
      "..                        ...                             ...   \n",
      "619  Bildmaß:  26,5 x 20,6 cm    Fotopapiermaß:  30,1 x 24 cm   \n",
      "620    Bildmaß:  19 x 26,6 cm  Fotopapiermaß:  23,8 x 29,8 cm   \n",
      "621  Bildmaß:  20,2 x 26,5 cm  Fotopapiermaß:  23,5 x 29,6 cm   \n",
      "622  Bildmaß:  25,3 x 18,1 cm       Blattmaß:  29,9 x 23,8 cm   \n",
      "623  Bildmaß:  25,5 x 18,2 cm       Blattmaß:  29,8 x 23,9 cm   \n",
      "\n",
      "                    measurement_3 measurement_4 measurement_5  \n",
      "0    Passepartoutmaß:  70 x 50 cm          None          None  \n",
      "1    Passepartoutmaß:  70 x 50 cm          None          None  \n",
      "2                            None          None          None  \n",
      "3                            None          None          None  \n",
      "4    Passepartoutmaß:  70 x 50 cm          None          None  \n",
      "..                            ...           ...           ...  \n",
      "619                          None          None          None  \n",
      "620                          None          None          None  \n",
      "621                          None          None          None  \n",
      "622                          None          None          None  \n",
      "623                          None          None          None  \n",
      "\n",
      "[624 rows x 10 columns]\n"
     ]
    }
   ],
   "source": [
    "df = pd.DataFrame(parsed_images)\n",
    "print(df)"
   ],
   "metadata": {
    "collapsed": false,
    "pycharm": {
     "name": "#%%\n"
    }
   }
  },
  {
   "cell_type": "code",
   "execution_count": 6,
   "outputs": [],
   "source": [
    "df.to_csv('parsed_image_meta_data.csv')"
   ],
   "metadata": {
    "collapsed": false,
    "pycharm": {
     "name": "#%%\n"
    }
   }
  }
 ],
 "metadata": {
  "kernelspec": {
   "display_name": "Python 3",
   "language": "python",
   "name": "python3"
  },
  "language_info": {
   "codemirror_mode": {
    "name": "ipython",
    "version": 2
   },
   "file_extension": ".py",
   "mimetype": "text/x-python",
   "name": "python",
   "nbconvert_exporter": "python",
   "pygments_lexer": "ipython2",
   "version": "2.7.6"
  }
 },
 "nbformat": 4,
 "nbformat_minor": 0
}