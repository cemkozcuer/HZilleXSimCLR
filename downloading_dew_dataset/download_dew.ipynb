{
 "cells": [
  {
   "cell_type": "code",
   "execution_count": null,
   "outputs": [],
   "source": [
    "\"\"\"\n",
    "This notebook is a scratch book about downloading the dew (Date Estimation in the Wild) dataset.\n",
    "\n",
    "The final script downloading the dataset is \"download_dew.py\".\n",
    "\"\"\""
   ],
   "metadata": {
    "collapsed": false,
    "pycharm": {
     "name": "#%%\n"
    }
   }
  },
  {
   "cell_type": "code",
   "execution_count": 3,
   "outputs": [],
   "source": [
    "import pandas as pd\n",
    "import requests\n",
    "import time\n",
    "import os"
   ],
   "metadata": {
    "collapsed": false,
    "pycharm": {
     "name": "#%%\n"
    }
   }
  },
  {
   "cell_type": "code",
   "execution_count": 6,
   "outputs": [],
   "source": [
    "df = pd.read_csv('data/dew/meta.csv')"
   ],
   "metadata": {
    "collapsed": false,
    "pycharm": {
     "name": "#%%\n"
    }
   }
  },
  {
   "cell_type": "code",
   "execution_count": 7,
   "outputs": [],
   "source": [
    "until = 1950\n",
    "# download_folder = 'data/dew/images_until_1950'\n",
    "download_folder = '/volumes/512GB 5200U TM/datasets/dew/until_1950/'"
   ],
   "metadata": {
    "collapsed": false,
    "pycharm": {
     "name": "#%%\n"
    }
   }
  },
  {
   "cell_type": "code",
   "execution_count": 8,
   "outputs": [],
   "source": [
    "df_selected = df[df['GT'] <= until]"
   ],
   "metadata": {
    "collapsed": false,
    "pycharm": {
     "name": "#%%\n"
    }
   }
  },
  {
   "cell_type": "code",
   "execution_count": 9,
   "outputs": [
    {
     "data": {
      "text/plain": "          img_id    GT           date_taken  date_granularity  \\\n869   8796545829  1930  1930-01-01 10:47:35                 0   \n870   8404012017  1930  1930-01-01 00:00:00                 6   \n871  11668255363  1930  1930-01-01 00:00:00                 8   \n872  25578292114  1930  1930-01-01 00:00:00                 6   \n873   2402788766  1930  1930-01-01 00:00:00                 6   \n874  26159050312  1930  1930-01-01 00:00:00                 6   \n875   3151609787  1930  1930-01-01 00:00:00                 6   \n876   3463533474  1930  1930-01-01 00:00:00                 8   \n877   9797614024  1930  1930-01-01 00:00:00                 8   \n878   5442930268  1930  1930-01-01 00:00:00                 6   \n\n                                                   url  \\\n869  https://farm8.staticflickr.com/7281/8796545829...   \n870  https://farm9.staticflickr.com/8336/8404012017...   \n871  https://farm4.staticflickr.com/3707/1166825536...   \n872  https://farm2.staticflickr.com/1689/2557829211...   \n873  https://farm4.staticflickr.com/3115/2402788766...   \n874  https://farm2.staticflickr.com/1653/2615905031...   \n875  https://farm4.staticflickr.com/3122/3151609787...   \n876  https://farm4.staticflickr.com/3559/3463533474...   \n877  https://farm4.staticflickr.com/3766/9797614024...   \n878  https://farm6.staticflickr.com/5138/5442930268...   \n\n                          username  \\\n869                      Dawn 1972   \n870  Ecomuseo Valsugana | Croxarie   \n871                  FotoGuy 49057   \n872                   mama knipst!   \n873                       Striderv   \n874                   mama knipst!   \n875                   Infrogmation   \n876                        phlubdr   \n877                Fotos colomines   \n878                   archivesplus   \n\n                                                 title  \\\n869                                               1930   \n870                                     Strigno, 1930?   \n871                               Yokohama Japan  1930   \n872  Düsseldorf 1930 Grafenwerth - Foto aus einem a...   \n873                          Dorothy Steel in Montreal   \n874  Kirschblüte Metternich 1930 - Foto aus einem a...   \n875                                        Summer 1930   \n876                                      interior 1930   \n877  Santa Coloma de Queralt, Escoles Nacionals Gru...   \n878  Daily Herald Newspaper Building (interior), Ma...   \n\n                               license  \\\n869                All Rights Reserved   \n870                All Rights Reserved   \n871                All Rights Reserved   \n872                All Rights Reserved   \n873                All Rights Reserved   \n874                All Rights Reserved   \n875                Attribution License   \n876  Attribution-NonCommercial License   \n877                All Rights Reserved   \n878                All Rights Reserved   \n\n                                         license_url  \n869                                              NaN  \n870                                              NaN  \n871                                              NaN  \n872                                              NaN  \n873                                              NaN  \n874                                              NaN  \n875     https://creativecommons.org/licenses/by/2.0/  \n876  https://creativecommons.org/licenses/by-nc/2.0/  \n877                                              NaN  \n878                                              NaN  ",
      "text/html": "<div>\n<style scoped>\n    .dataframe tbody tr th:only-of-type {\n        vertical-align: middle;\n    }\n\n    .dataframe tbody tr th {\n        vertical-align: top;\n    }\n\n    .dataframe thead th {\n        text-align: right;\n    }\n</style>\n<table border=\"1\" class=\"dataframe\">\n  <thead>\n    <tr style=\"text-align: right;\">\n      <th></th>\n      <th>img_id</th>\n      <th>GT</th>\n      <th>date_taken</th>\n      <th>date_granularity</th>\n      <th>url</th>\n      <th>username</th>\n      <th>title</th>\n      <th>license</th>\n      <th>license_url</th>\n    </tr>\n  </thead>\n  <tbody>\n    <tr>\n      <th>869</th>\n      <td>8796545829</td>\n      <td>1930</td>\n      <td>1930-01-01 10:47:35</td>\n      <td>0</td>\n      <td>https://farm8.staticflickr.com/7281/8796545829...</td>\n      <td>Dawn 1972</td>\n      <td>1930</td>\n      <td>All Rights Reserved</td>\n      <td>NaN</td>\n    </tr>\n    <tr>\n      <th>870</th>\n      <td>8404012017</td>\n      <td>1930</td>\n      <td>1930-01-01 00:00:00</td>\n      <td>6</td>\n      <td>https://farm9.staticflickr.com/8336/8404012017...</td>\n      <td>Ecomuseo Valsugana | Croxarie</td>\n      <td>Strigno, 1930?</td>\n      <td>All Rights Reserved</td>\n      <td>NaN</td>\n    </tr>\n    <tr>\n      <th>871</th>\n      <td>11668255363</td>\n      <td>1930</td>\n      <td>1930-01-01 00:00:00</td>\n      <td>8</td>\n      <td>https://farm4.staticflickr.com/3707/1166825536...</td>\n      <td>FotoGuy 49057</td>\n      <td>Yokohama Japan  1930</td>\n      <td>All Rights Reserved</td>\n      <td>NaN</td>\n    </tr>\n    <tr>\n      <th>872</th>\n      <td>25578292114</td>\n      <td>1930</td>\n      <td>1930-01-01 00:00:00</td>\n      <td>6</td>\n      <td>https://farm2.staticflickr.com/1689/2557829211...</td>\n      <td>mama knipst!</td>\n      <td>Düsseldorf 1930 Grafenwerth - Foto aus einem a...</td>\n      <td>All Rights Reserved</td>\n      <td>NaN</td>\n    </tr>\n    <tr>\n      <th>873</th>\n      <td>2402788766</td>\n      <td>1930</td>\n      <td>1930-01-01 00:00:00</td>\n      <td>6</td>\n      <td>https://farm4.staticflickr.com/3115/2402788766...</td>\n      <td>Striderv</td>\n      <td>Dorothy Steel in Montreal</td>\n      <td>All Rights Reserved</td>\n      <td>NaN</td>\n    </tr>\n    <tr>\n      <th>874</th>\n      <td>26159050312</td>\n      <td>1930</td>\n      <td>1930-01-01 00:00:00</td>\n      <td>6</td>\n      <td>https://farm2.staticflickr.com/1653/2615905031...</td>\n      <td>mama knipst!</td>\n      <td>Kirschblüte Metternich 1930 - Foto aus einem a...</td>\n      <td>All Rights Reserved</td>\n      <td>NaN</td>\n    </tr>\n    <tr>\n      <th>875</th>\n      <td>3151609787</td>\n      <td>1930</td>\n      <td>1930-01-01 00:00:00</td>\n      <td>6</td>\n      <td>https://farm4.staticflickr.com/3122/3151609787...</td>\n      <td>Infrogmation</td>\n      <td>Summer 1930</td>\n      <td>Attribution License</td>\n      <td>https://creativecommons.org/licenses/by/2.0/</td>\n    </tr>\n    <tr>\n      <th>876</th>\n      <td>3463533474</td>\n      <td>1930</td>\n      <td>1930-01-01 00:00:00</td>\n      <td>8</td>\n      <td>https://farm4.staticflickr.com/3559/3463533474...</td>\n      <td>phlubdr</td>\n      <td>interior 1930</td>\n      <td>Attribution-NonCommercial License</td>\n      <td>https://creativecommons.org/licenses/by-nc/2.0/</td>\n    </tr>\n    <tr>\n      <th>877</th>\n      <td>9797614024</td>\n      <td>1930</td>\n      <td>1930-01-01 00:00:00</td>\n      <td>8</td>\n      <td>https://farm4.staticflickr.com/3766/9797614024...</td>\n      <td>Fotos colomines</td>\n      <td>Santa Coloma de Queralt, Escoles Nacionals Gru...</td>\n      <td>All Rights Reserved</td>\n      <td>NaN</td>\n    </tr>\n    <tr>\n      <th>878</th>\n      <td>5442930268</td>\n      <td>1930</td>\n      <td>1930-01-01 00:00:00</td>\n      <td>6</td>\n      <td>https://farm6.staticflickr.com/5138/5442930268...</td>\n      <td>archivesplus</td>\n      <td>Daily Herald Newspaper Building (interior), Ma...</td>\n      <td>All Rights Reserved</td>\n      <td>NaN</td>\n    </tr>\n  </tbody>\n</table>\n</div>"
     },
     "execution_count": 9,
     "metadata": {},
     "output_type": "execute_result"
    }
   ],
   "source": [
    "df_selected.head(10)"
   ],
   "metadata": {
    "collapsed": false,
    "pycharm": {
     "name": "#%%\n"
    }
   }
  },
  {
   "cell_type": "code",
   "execution_count": 24,
   "outputs": [
    {
     "name": "stdout",
     "output_type": "stream",
     "text": [
      "before remove 98227\n",
      "after removing bad responses 98217\n",
      "after removing downloaded 57894 \n",
      "\n"
     ]
    }
   ],
   "source": [
    "downloaded_images = os.listdir(download_folder)\n",
    "\n",
    "downloaded_ids = []\n",
    "for image_path in downloaded_images:\n",
    "\n",
    "    file_name = image_path.split('.')[0]\n",
    "\n",
    "    if file_name != '':\n",
    "        img_id = int(file_name.split('_')[0])  # first part before \"_\" is image id in dataset\n",
    "        downloaded_ids.append(img_id)\n",
    "\n",
    "# image_ids = [image_path.split('.')[0] for image_path in already_processed_images]\n",
    "# image_ids = [int(entry.split('_')[0]) for entry in image_ids if entry != '']\n",
    "\n",
    "# filter out bad responses from last attempt\n",
    "with open('bad_responses.txt') as f:\n",
    "    bad_responses = [line.rstrip('\\n') for line in f]\n",
    "\n",
    "print('before remove', len(df_selected))\n",
    "\n",
    "remaining_images = df_selected[~df_selected['url'].isin(bad_responses)]\n",
    "print('after removing bad responses', len(remaining_images))\n",
    "\n",
    "# all_image_ids = df_selected['img_id']\n",
    "# print('before remove', len(all_image_ids))\n",
    "\n",
    "# filter out already downloaded images\n",
    "remaining_image_ids = remaining_images[~remaining_images['img_id'].isin(downloaded_ids)]['img_id']\n",
    "print('after removing downloaded', len(remaining_image_ids), '\\n')\n"
   ],
   "metadata": {
    "collapsed": false,
    "pycharm": {
     "name": "#%%\n"
    }
   }
  },
  {
   "cell_type": "code",
   "execution_count": 22,
   "outputs": [
    {
     "name": "stdout",
     "output_type": "stream",
     "text": [
      "Downloading no.1: https://farm4.staticflickr.com/3115/2402788766_676d74c353.jpg\n",
      "410 text/html;charset=utf-8\n",
      "bad response\n",
      "\n",
      "took: 0.1 secs\n",
      "time total: 0.1 secs\n",
      "avg time: 0.1 secs\n",
      "left: 57903 est: 91.0 mins \n",
      "\n",
      "Downloading no.2: https://farm8.staticflickr.com/7424/9662918817_dd53117f1c.jpg\n",
      "404 text/html; charset=utf-8\n",
      "bad response\n",
      "\n",
      "took: 0.5 secs\n",
      "time total: 0.6 secs\n",
      "avg time: 0.3 secs\n",
      "left: 57902 est: 281.0 mins \n",
      "\n",
      "Downloading no.3: https://farm3.staticflickr.com/2815/9666151432_1d2275ae81.jpg\n",
      "404 text/html; charset=utf-8\n",
      "bad response\n",
      "\n",
      "took: 0.5 secs\n",
      "time total: 1.0 secs\n",
      "avg time: 0.3 secs\n",
      "left: 57901 est: 334.0 mins \n",
      "\n",
      "Downloading no.4: https://farm2.staticflickr.com/1369/5164740159_e946d6279f.jpg\n",
      "404 text/html; charset=utf-8\n",
      "bad response\n",
      "\n",
      "took: 0.2 secs\n",
      "time total: 1.2 secs\n",
      "avg time: 0.3 secs\n",
      "left: 57900 est: 293.0 mins \n",
      "\n",
      "Downloading no.5: https://farm6.staticflickr.com/5327/9666088194_e172927627.jpg\n",
      "404 text/html; charset=utf-8\n",
      "bad response\n",
      "\n",
      "took: 0.4 secs\n",
      "time total: 1.7 secs\n",
      "avg time: 0.3 secs\n",
      "left: 57899 est: 319.0 mins \n",
      "\n",
      "Downloading no.6: https://farm8.staticflickr.com/7425/9662856705_9e36c9fb81.jpg\n",
      "404 text/html; charset=utf-8\n",
      "bad response\n",
      "\n",
      "took: 0.2 secs\n",
      "time total: 1.8 secs\n",
      "avg time: 0.3 secs\n",
      "left: 57898 est: 293.0 mins \n",
      "\n",
      "Downloading no.7: https://farm6.staticflickr.com/5335/9666097572_4a6a18fc86.jpg\n",
      "404 text/html; charset=utf-8\n",
      "bad response\n",
      "\n",
      "took: 0.2 secs\n",
      "time total: 2.0 secs\n",
      "avg time: 0.3 secs\n",
      "left: 57897 est: 274.0 mins \n",
      "\n",
      "Downloading no.8: https://farm3.staticflickr.com/2866/9666149990_ed248c0db3.jpg\n",
      "404 text/html; charset=utf-8\n",
      "bad response\n",
      "\n",
      "took: 0.2 secs\n",
      "time total: 2.2 secs\n",
      "avg time: 0.3 secs\n",
      "left: 57896 est: 260.0 mins \n",
      "\n",
      "Downloading no.9: https://farm6.staticflickr.com/5501/9662922755_1e179c0534.jpg\n",
      "404 text/html; charset=utf-8\n",
      "bad response\n",
      "\n",
      "took: 0.2 secs\n",
      "time total: 2.3 secs\n",
      "avg time: 0.3 secs\n",
      "left: 57895 est: 250.0 mins \n",
      "\n",
      "Downloading no.10: https://farm3.staticflickr.com/2816/9662926853_44cdb53350.jpg\n",
      "404 text/html; charset=utf-8\n",
      "bad response\n",
      "\n",
      "took: 0.2 secs\n",
      "time total: 2.5 secs\n",
      "avg time: 0.3 secs\n",
      "left: 57894 est: 244.0 mins \n",
      "\n",
      "Downloaded 0 images, 0 errors, 10 bad responses.\n"
     ]
    }
   ],
   "source": [
    "succesful_downloads = []\n",
    "errors = []\n",
    "bad_responses = []\n",
    "\n",
    "total_images = len(remaining_image_ids)\n",
    "count = 0\n",
    "total_time = 0\n",
    "\n",
    "for img_id in remaining_image_ids:\n",
    "# for _, row in df_selected.iterrows():\n",
    "    start_time = time.time()\n",
    "    count += 1\n",
    "\n",
    "    row = df_selected[df_selected['img_id'] == img_id].iloc[0]\n",
    "\n",
    "    url = row['url']\n",
    "    print(f'Downloading no.{count}:', url)\n",
    "\n",
    "    file_name = str.split(url, '/')[-1]\n",
    "    try:\n",
    "        response = requests.get(url)\n",
    "        print(response.status_code, response.headers['content-type'])\n",
    "\n",
    "        if response.headers['content-type'] == 'image/jpeg':\n",
    "            f = open(f'{download_folder}/{file_name}','wb')\n",
    "            f.write(response.content)\n",
    "            f.close()\n",
    "\n",
    "            succesful_downloads.append(url)\n",
    "            print('download successful')\n",
    "        else:\n",
    "            bad_responses.append(url)\n",
    "\n",
    "            with open('bad_responses.txt', 'a') as f:\n",
    "                f.write(url)\n",
    "                f.write('\\n')\n",
    "\n",
    "            print('bad response')\n",
    "\n",
    "    except IOError:\n",
    "        errors.append(url)\n",
    "        print('failed downloading:', url)\n",
    "\n",
    "    end_time = time.time()\n",
    "    took_time = end_time - start_time\n",
    "    total_time += took_time\n",
    "    left_images = total_images - count\n",
    "    avg_time_per_image = total_time / count\n",
    "\n",
    "    print()\n",
    "    print('took:', round(took_time, 1), 'secs')\n",
    "    print('time total:', round(total_time, 1), 'secs')\n",
    "    print('avg time:', round(avg_time_per_image, 1), 'secs')\n",
    "    print('left:', left_images, 'est:', round(avg_time_per_image * left_images / 60, 0), 'mins', '\\n')\n",
    "\n",
    "    # print(i, url, file_name)\n",
    "    # if len(succesful_downloads) == 50:\n",
    "    if count == 10:\n",
    "        break\n",
    "\n",
    "print(f'Downloaded {len(succesful_downloads)} images, {len(errors)} errors, {len(bad_responses)} bad responses.')"
   ],
   "metadata": {
    "collapsed": false,
    "pycharm": {
     "name": "#%%\n"
    }
   }
  },
  {
   "cell_type": "code",
   "execution_count": null,
   "outputs": [],
   "source": [],
   "metadata": {
    "collapsed": false,
    "pycharm": {
     "name": "#%%\n"
    }
   }
  }
 ],
 "metadata": {
  "kernelspec": {
   "display_name": "Python 3",
   "language": "python",
   "name": "python3"
  },
  "language_info": {
   "codemirror_mode": {
    "name": "ipython",
    "version": 2
   },
   "file_extension": ".py",
   "mimetype": "text/x-python",
   "name": "python",
   "nbconvert_exporter": "python",
   "pygments_lexer": "ipython2",
   "version": "2.7.6"
  }
 },
 "nbformat": 4,
 "nbformat_minor": 0
}